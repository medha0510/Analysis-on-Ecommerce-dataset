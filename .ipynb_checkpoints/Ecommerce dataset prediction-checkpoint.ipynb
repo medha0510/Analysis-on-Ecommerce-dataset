{
 "cells": [
  {
   "cell_type": "markdown",
   "metadata": {},
   "source": [
    "# ECommerce Dataset prediction using LinearRegression"
   ]
  },
  {
   "cell_type": "code",
   "execution_count": 1,
   "metadata": {},
   "outputs": [],
   "source": [
    "import pandas as pd\n",
    "import matplotlib.pyplot as plt\n",
    "import seaborn as sns\n",
    "%matplotlib inline\n",
    "from sklearn.model_selection import train_test_split\n",
    "from sklearn.linear_model import LinearRegression\n",
    "from sklearn import metrics"
   ]
  },
  {
   "cell_type": "code",
   "execution_count": 3,
   "metadata": {},
   "outputs": [
    {
     "data": {
      "text/html": [
       "<div>\n",
       "<style scoped>\n",
       "    .dataframe tbody tr th:only-of-type {\n",
       "        vertical-align: middle;\n",
       "    }\n",
       "\n",
       "    .dataframe tbody tr th {\n",
       "        vertical-align: top;\n",
       "    }\n",
       "\n",
       "    .dataframe thead th {\n",
       "        text-align: right;\n",
       "    }\n",
       "</style>\n",
       "<table border=\"1\" class=\"dataframe\">\n",
       "  <thead>\n",
       "    <tr style=\"text-align: right;\">\n",
       "      <th></th>\n",
       "      <th>Email</th>\n",
       "      <th>Address</th>\n",
       "      <th>Avatar</th>\n",
       "      <th>Avg. Session Length</th>\n",
       "      <th>Time on App</th>\n",
       "      <th>Time on Website</th>\n",
       "      <th>Length of Membership</th>\n",
       "      <th>Yearly Amount Spent</th>\n",
       "    </tr>\n",
       "  </thead>\n",
       "  <tbody>\n",
       "    <tr>\n",
       "      <td>0</td>\n",
       "      <td>mstephenson@fernandez.com</td>\n",
       "      <td>835 Frank Tunnel\\nWrightmouth, MI 82180-9605</td>\n",
       "      <td>Violet</td>\n",
       "      <td>34.497268</td>\n",
       "      <td>12.655651</td>\n",
       "      <td>39.577668</td>\n",
       "      <td>4.082621</td>\n",
       "      <td>587.951054</td>\n",
       "    </tr>\n",
       "    <tr>\n",
       "      <td>1</td>\n",
       "      <td>hduke@hotmail.com</td>\n",
       "      <td>4547 Archer Common\\nDiazchester, CA 06566-8576</td>\n",
       "      <td>DarkGreen</td>\n",
       "      <td>31.926272</td>\n",
       "      <td>11.109461</td>\n",
       "      <td>37.268959</td>\n",
       "      <td>2.664034</td>\n",
       "      <td>392.204933</td>\n",
       "    </tr>\n",
       "    <tr>\n",
       "      <td>2</td>\n",
       "      <td>pallen@yahoo.com</td>\n",
       "      <td>24645 Valerie Unions Suite 582\\nCobbborough, D...</td>\n",
       "      <td>Bisque</td>\n",
       "      <td>33.000915</td>\n",
       "      <td>11.330278</td>\n",
       "      <td>37.110597</td>\n",
       "      <td>4.104543</td>\n",
       "      <td>487.547505</td>\n",
       "    </tr>\n",
       "    <tr>\n",
       "      <td>3</td>\n",
       "      <td>riverarebecca@gmail.com</td>\n",
       "      <td>1414 David Throughway\\nPort Jason, OH 22070-1220</td>\n",
       "      <td>SaddleBrown</td>\n",
       "      <td>34.305557</td>\n",
       "      <td>13.717514</td>\n",
       "      <td>36.721283</td>\n",
       "      <td>3.120179</td>\n",
       "      <td>581.852344</td>\n",
       "    </tr>\n",
       "    <tr>\n",
       "      <td>4</td>\n",
       "      <td>mstephens@davidson-herman.com</td>\n",
       "      <td>14023 Rodriguez Passage\\nPort Jacobville, PR 3...</td>\n",
       "      <td>MediumAquaMarine</td>\n",
       "      <td>33.330673</td>\n",
       "      <td>12.795189</td>\n",
       "      <td>37.536653</td>\n",
       "      <td>4.446308</td>\n",
       "      <td>599.406092</td>\n",
       "    </tr>\n",
       "  </tbody>\n",
       "</table>\n",
       "</div>"
      ],
      "text/plain": [
       "                           Email  \\\n",
       "0      mstephenson@fernandez.com   \n",
       "1              hduke@hotmail.com   \n",
       "2               pallen@yahoo.com   \n",
       "3        riverarebecca@gmail.com   \n",
       "4  mstephens@davidson-herman.com   \n",
       "\n",
       "                                             Address            Avatar  \\\n",
       "0       835 Frank Tunnel\\nWrightmouth, MI 82180-9605            Violet   \n",
       "1     4547 Archer Common\\nDiazchester, CA 06566-8576         DarkGreen   \n",
       "2  24645 Valerie Unions Suite 582\\nCobbborough, D...            Bisque   \n",
       "3   1414 David Throughway\\nPort Jason, OH 22070-1220       SaddleBrown   \n",
       "4  14023 Rodriguez Passage\\nPort Jacobville, PR 3...  MediumAquaMarine   \n",
       "\n",
       "   Avg. Session Length  Time on App  Time on Website  Length of Membership  \\\n",
       "0            34.497268    12.655651        39.577668              4.082621   \n",
       "1            31.926272    11.109461        37.268959              2.664034   \n",
       "2            33.000915    11.330278        37.110597              4.104543   \n",
       "3            34.305557    13.717514        36.721283              3.120179   \n",
       "4            33.330673    12.795189        37.536653              4.446308   \n",
       "\n",
       "   Yearly Amount Spent  \n",
       "0           587.951054  \n",
       "1           392.204933  \n",
       "2           487.547505  \n",
       "3           581.852344  \n",
       "4           599.406092  "
      ]
     },
     "execution_count": 3,
     "metadata": {},
     "output_type": "execute_result"
    }
   ],
   "source": [
    "data = pd.read_csv('Ecom.csv')\n",
    "data.head()"
   ]
  },
  {
   "cell_type": "code",
   "execution_count": 4,
   "metadata": {},
   "outputs": [
    {
     "data": {
      "text/plain": [
       "(500, 8)"
      ]
     },
     "execution_count": 4,
     "metadata": {},
     "output_type": "execute_result"
    }
   ],
   "source": [
    "data.shape"
   ]
  },
  {
   "cell_type": "code",
   "execution_count": 6,
   "metadata": {},
   "outputs": [
    {
     "name": "stdout",
     "output_type": "stream",
     "text": [
      "<class 'pandas.core.frame.DataFrame'>\n",
      "RangeIndex: 500 entries, 0 to 499\n",
      "Data columns (total 8 columns):\n",
      "Email                   500 non-null object\n",
      "Address                 500 non-null object\n",
      "Avatar                  500 non-null object\n",
      "Avg. Session Length     500 non-null float64\n",
      "Time on App             500 non-null float64\n",
      "Time on Website         500 non-null float64\n",
      "Length of Membership    500 non-null float64\n",
      "Yearly Amount Spent     500 non-null float64\n",
      "dtypes: float64(5), object(3)\n",
      "memory usage: 31.4+ KB\n"
     ]
    }
   ],
   "source": [
    "data.info()"
   ]
  },
  {
   "cell_type": "code",
   "execution_count": 35,
   "metadata": {},
   "outputs": [
    {
     "name": "stdout",
     "output_type": "stream",
     "text": [
      "<class 'pandas.core.frame.DataFrame'>\n",
      "RangeIndex: 500 entries, 0 to 499\n",
      "Data columns (total 9 columns):\n",
      "Email                   500 non-null object\n",
      "Address                 500 non-null object\n",
      "Avatar                  500 non-null object\n",
      "Avg. Session Length     500 non-null float64\n",
      "Time on App             500 non-null float64\n",
      "Time on Website         500 non-null float64\n",
      "Length of Membership    500 non-null float64\n",
      "Yearly Amount Spent     500 non-null float64\n",
      "Focus                   500 non-null bool\n",
      "dtypes: bool(1), float64(5), object(3)\n",
      "memory usage: 31.8+ KB\n"
     ]
    },
    {
     "data": {
      "text/html": [
       "<div>\n",
       "<style scoped>\n",
       "    .dataframe tbody tr th:only-of-type {\n",
       "        vertical-align: middle;\n",
       "    }\n",
       "\n",
       "    .dataframe tbody tr th {\n",
       "        vertical-align: top;\n",
       "    }\n",
       "\n",
       "    .dataframe thead th {\n",
       "        text-align: right;\n",
       "    }\n",
       "</style>\n",
       "<table border=\"1\" class=\"dataframe\">\n",
       "  <thead>\n",
       "    <tr style=\"text-align: right;\">\n",
       "      <th></th>\n",
       "      <th>Email</th>\n",
       "      <th>Address</th>\n",
       "      <th>Avatar</th>\n",
       "      <th>Avg. Session Length</th>\n",
       "      <th>Time on App</th>\n",
       "      <th>Time on Website</th>\n",
       "      <th>Length of Membership</th>\n",
       "      <th>Yearly Amount Spent</th>\n",
       "      <th>Focus</th>\n",
       "    </tr>\n",
       "  </thead>\n",
       "  <tbody>\n",
       "    <tr>\n",
       "      <th>0</th>\n",
       "      <td>mstephenson@fernandez.com</td>\n",
       "      <td>835 Frank Tunnel\\nWrightmouth, MI 82180-9605</td>\n",
       "      <td>Violet</td>\n",
       "      <td>34.497268</td>\n",
       "      <td>12.655651</td>\n",
       "      <td>39.577668</td>\n",
       "      <td>4.082621</td>\n",
       "      <td>587.951054</td>\n",
       "      <td>True</td>\n",
       "    </tr>\n",
       "    <tr>\n",
       "      <th>1</th>\n",
       "      <td>hduke@hotmail.com</td>\n",
       "      <td>4547 Archer Common\\nDiazchester, CA 06566-8576</td>\n",
       "      <td>DarkGreen</td>\n",
       "      <td>31.926272</td>\n",
       "      <td>11.109461</td>\n",
       "      <td>37.268959</td>\n",
       "      <td>2.664034</td>\n",
       "      <td>392.204933</td>\n",
       "      <td>True</td>\n",
       "    </tr>\n",
       "    <tr>\n",
       "      <th>2</th>\n",
       "      <td>pallen@yahoo.com</td>\n",
       "      <td>24645 Valerie Unions Suite 582\\nCobbborough, D...</td>\n",
       "      <td>Bisque</td>\n",
       "      <td>33.000915</td>\n",
       "      <td>11.330278</td>\n",
       "      <td>37.110597</td>\n",
       "      <td>4.104543</td>\n",
       "      <td>487.547505</td>\n",
       "      <td>True</td>\n",
       "    </tr>\n",
       "    <tr>\n",
       "      <th>3</th>\n",
       "      <td>riverarebecca@gmail.com</td>\n",
       "      <td>1414 David Throughway\\nPort Jason, OH 22070-1220</td>\n",
       "      <td>SaddleBrown</td>\n",
       "      <td>34.305557</td>\n",
       "      <td>13.717514</td>\n",
       "      <td>36.721283</td>\n",
       "      <td>3.120179</td>\n",
       "      <td>581.852344</td>\n",
       "      <td>True</td>\n",
       "    </tr>\n",
       "    <tr>\n",
       "      <th>4</th>\n",
       "      <td>mstephens@davidson-herman.com</td>\n",
       "      <td>14023 Rodriguez Passage\\nPort Jacobville, PR 3...</td>\n",
       "      <td>MediumAquaMarine</td>\n",
       "      <td>33.330673</td>\n",
       "      <td>12.795189</td>\n",
       "      <td>37.536653</td>\n",
       "      <td>4.446308</td>\n",
       "      <td>599.406092</td>\n",
       "      <td>True</td>\n",
       "    </tr>\n",
       "  </tbody>\n",
       "</table>\n",
       "</div>"
      ],
      "text/plain": [
       "                           Email  \\\n",
       "0      mstephenson@fernandez.com   \n",
       "1              hduke@hotmail.com   \n",
       "2               pallen@yahoo.com   \n",
       "3        riverarebecca@gmail.com   \n",
       "4  mstephens@davidson-herman.com   \n",
       "\n",
       "                                             Address            Avatar  \\\n",
       "0       835 Frank Tunnel\\nWrightmouth, MI 82180-9605            Violet   \n",
       "1     4547 Archer Common\\nDiazchester, CA 06566-8576         DarkGreen   \n",
       "2  24645 Valerie Unions Suite 582\\nCobbborough, D...            Bisque   \n",
       "3   1414 David Throughway\\nPort Jason, OH 22070-1220       SaddleBrown   \n",
       "4  14023 Rodriguez Passage\\nPort Jacobville, PR 3...  MediumAquaMarine   \n",
       "\n",
       "   Avg. Session Length  Time on App  Time on Website  Length of Membership  \\\n",
       "0            34.497268    12.655651        39.577668              4.082621   \n",
       "1            31.926272    11.109461        37.268959              2.664034   \n",
       "2            33.000915    11.330278        37.110597              4.104543   \n",
       "3            34.305557    13.717514        36.721283              3.120179   \n",
       "4            33.330673    12.795189        37.536653              4.446308   \n",
       "\n",
       "   Yearly Amount Spent  Focus  \n",
       "0           587.951054   True  \n",
       "1           392.204933   True  \n",
       "2           487.547505   True  \n",
       "3           581.852344   True  \n",
       "4           599.406092   True  "
      ]
     },
     "execution_count": 35,
     "metadata": {},
     "output_type": "execute_result"
    }
   ],
   "source": [
    "\n",
    "df.head()"
   ]
  },
  {
   "cell_type": "code",
   "execution_count": 7,
   "metadata": {
    "scrolled": true
   },
   "outputs": [
    {
     "name": "stdout",
     "output_type": "stream",
     "text": [
      "   Avg. Session Length  Time on App  Time on Website  Length of Membership\n",
      "0            34.497268    12.655651        39.577668              4.082621\n",
      "1            31.926272    11.109461        37.268959              2.664034\n",
      "2            33.000915    11.330278        37.110597              4.104543\n",
      "3            34.305557    13.717514        36.721283              3.120179\n",
      "4            33.330673    12.795189        37.536653              4.446308    Yearly Amount Spent\n",
      "0           587.951054\n",
      "1           392.204933\n",
      "2           487.547505\n",
      "3           581.852344\n",
      "4           599.406092\n"
     ]
    }
   ],
   "source": [
    "#creating testing and training datasets\n",
    "x = data.iloc[: , 3:7]\n",
    "y = data.iloc[: , 7:]\n",
    "print(x.head(),y.head())"
   ]
  },
  {
   "cell_type": "code",
   "execution_count": 8,
   "metadata": {},
   "outputs": [
    {
     "name": "stdout",
     "output_type": "stream",
     "text": [
      "     Avg. Session Length  Time on App  Time on Website  Length of Membership\n",
      "129            32.771715    11.540832        37.526421              2.924021\n",
      "280            32.271848    13.485009        37.550880              3.086337\n",
      "440            33.200616    11.965980        36.831536              3.549036\n",
      "384            33.593964    11.520567        36.189132              3.561215\n",
      "225            32.836941    10.256549        36.143908              0.789520      Yearly Amount Spent\n",
      "243           490.600443\n",
      "91            611.000025\n",
      "369           531.961551\n",
      "300           473.949857\n",
      "405           508.735741\n"
     ]
    }
   ],
   "source": [
    "#creating gropus of training and testing instances\n",
    "x_train, x_test, y_train, y_test = train_test_split(x, y, test_size = 0.5, random_state = 2)\n",
    "print(x_test.head(),y_train.head())"
   ]
  },
  {
   "cell_type": "code",
   "execution_count": 9,
   "metadata": {},
   "outputs": [
    {
     "data": {
      "text/plain": [
       "array([[435.16214346],\n",
       "       [506.59945792],\n",
       "       [499.94117871],\n",
       "       [493.10285596],\n",
       "       [255.76201076],\n",
       "       [506.92368225],\n",
       "       [381.28150518],\n",
       "       [572.01354903],\n",
       "       [482.8196279 ],\n",
       "       [603.55308929],\n",
       "       [498.26755117],\n",
       "       [411.47802862],\n",
       "       [364.22254102],\n",
       "       [584.12707699],\n",
       "       [474.27688082],\n",
       "       [553.39830346],\n",
       "       [564.3198162 ],\n",
       "       [533.62580844],\n",
       "       [443.09539629],\n",
       "       [538.77745464],\n",
       "       [418.45479749],\n",
       "       [510.89188518],\n",
       "       [550.16904811],\n",
       "       [529.52342659],\n",
       "       [762.36213324],\n",
       "       [449.70616   ],\n",
       "       [455.56788169],\n",
       "       [547.72066098],\n",
       "       [413.41903522],\n",
       "       [534.95850425],\n",
       "       [514.22899776],\n",
       "       [537.94141112],\n",
       "       [690.75059675],\n",
       "       [562.61055997],\n",
       "       [456.40591162],\n",
       "       [425.06090626],\n",
       "       [380.23306412],\n",
       "       [332.70431115],\n",
       "       [456.47975676],\n",
       "       [284.83732898],\n",
       "       [532.11311176],\n",
       "       [701.16072471],\n",
       "       [488.11234299],\n",
       "       [526.0423427 ],\n",
       "       [492.88822514],\n",
       "       [478.61930027],\n",
       "       [486.79276436],\n",
       "       [389.81476314],\n",
       "       [464.27418713],\n",
       "       [548.28163766],\n",
       "       [419.13581251],\n",
       "       [372.23790722],\n",
       "       [376.22392564],\n",
       "       [522.29057786],\n",
       "       [486.97842878],\n",
       "       [517.52280006],\n",
       "       [576.06761535],\n",
       "       [477.92541549],\n",
       "       [529.44388017],\n",
       "       [571.02398929],\n",
       "       [404.59168272],\n",
       "       [400.53475831],\n",
       "       [500.8834681 ],\n",
       "       [446.01853197],\n",
       "       [444.80154672],\n",
       "       [580.93646073],\n",
       "       [588.51051318],\n",
       "       [551.24540655],\n",
       "       [532.07150099],\n",
       "       [477.74032402],\n",
       "       [512.55358243],\n",
       "       [533.95432294],\n",
       "       [527.18715724],\n",
       "       [427.17058535],\n",
       "       [413.01704673],\n",
       "       [558.71994247],\n",
       "       [447.39864301],\n",
       "       [459.6338435 ],\n",
       "       [530.94876714],\n",
       "       [581.23031684],\n",
       "       [497.8804166 ],\n",
       "       [518.41926577],\n",
       "       [398.23735341],\n",
       "       [400.33436374],\n",
       "       [551.0384899 ],\n",
       "       [504.56158617],\n",
       "       [456.73664304],\n",
       "       [282.54656841],\n",
       "       [486.44462517],\n",
       "       [565.0988985 ],\n",
       "       [505.02529259],\n",
       "       [437.97510559],\n",
       "       [429.92482707],\n",
       "       [493.85896509],\n",
       "       [468.66723439],\n",
       "       [462.12606529],\n",
       "       [575.90321443],\n",
       "       [561.74565607],\n",
       "       [482.23769397],\n",
       "       [460.56448195],\n",
       "       [557.00530426],\n",
       "       [500.99752104],\n",
       "       [456.68722541],\n",
       "       [478.01387374],\n",
       "       [596.63506284],\n",
       "       [474.36505256],\n",
       "       [471.35029414],\n",
       "       [547.71306293],\n",
       "       [557.79531091],\n",
       "       [615.03051413],\n",
       "       [399.26596505],\n",
       "       [505.85096163],\n",
       "       [447.14611127],\n",
       "       [586.36873746],\n",
       "       [511.85124166],\n",
       "       [597.39309515],\n",
       "       [431.59674313],\n",
       "       [567.93121582],\n",
       "       [640.20920682],\n",
       "       [477.88707911],\n",
       "       [521.0131695 ],\n",
       "       [508.02015714],\n",
       "       [519.99757916],\n",
       "       [586.6763057 ],\n",
       "       [514.969486  ],\n",
       "       [506.7484182 ],\n",
       "       [545.92420475],\n",
       "       [440.39588113],\n",
       "       [408.90136231],\n",
       "       [712.88555473],\n",
       "       [384.93304175],\n",
       "       [512.06051837],\n",
       "       [530.85145417],\n",
       "       [670.71961085],\n",
       "       [435.80309672],\n",
       "       [411.73777157],\n",
       "       [437.21429967],\n",
       "       [492.25381869],\n",
       "       [505.97105308],\n",
       "       [384.25018409],\n",
       "       [395.3277719 ],\n",
       "       [483.49221039],\n",
       "       [458.41002361],\n",
       "       [507.04168556],\n",
       "       [606.90972541],\n",
       "       [412.07410711],\n",
       "       [422.55278673],\n",
       "       [468.11066132],\n",
       "       [407.30739479],\n",
       "       [466.00243704],\n",
       "       [575.19393379],\n",
       "       [449.3462421 ],\n",
       "       [510.87858182],\n",
       "       [528.63405022],\n",
       "       [370.12045721],\n",
       "       [401.75541329],\n",
       "       [571.12476489],\n",
       "       [434.8308977 ],\n",
       "       [452.16525229],\n",
       "       [449.48317707],\n",
       "       [568.95977798],\n",
       "       [618.49913775],\n",
       "       [490.7179336 ],\n",
       "       [508.90149818],\n",
       "       [455.27289706],\n",
       "       [306.20573227],\n",
       "       [503.12331598],\n",
       "       [465.71116158],\n",
       "       [568.05375542],\n",
       "       [576.55120776],\n",
       "       [493.86369315],\n",
       "       [492.56657569],\n",
       "       [417.46292793],\n",
       "       [423.26691612],\n",
       "       [438.5882102 ],\n",
       "       [476.68169285],\n",
       "       [556.15719922],\n",
       "       [527.68009452],\n",
       "       [668.74392097],\n",
       "       [499.525877  ],\n",
       "       [552.12281165],\n",
       "       [655.94339411],\n",
       "       [526.59124254],\n",
       "       [559.62321356],\n",
       "       [484.08941456],\n",
       "       [566.90580452],\n",
       "       [388.31862606],\n",
       "       [480.53956798],\n",
       "       [337.98471286],\n",
       "       [749.10687735],\n",
       "       [682.78521838],\n",
       "       [535.22201576],\n",
       "       [352.50194351],\n",
       "       [517.01837215],\n",
       "       [555.42144998],\n",
       "       [435.60347309],\n",
       "       [515.70567481],\n",
       "       [517.01266344],\n",
       "       [472.65643688],\n",
       "       [461.1788067 ],\n",
       "       [487.05653767],\n",
       "       [490.7950025 ],\n",
       "       [502.1336588 ],\n",
       "       [444.06526723],\n",
       "       [542.9372761 ],\n",
       "       [547.1328609 ],\n",
       "       [530.68401142],\n",
       "       [541.73743061],\n",
       "       [477.48644809],\n",
       "       [541.41239224],\n",
       "       [517.60032056],\n",
       "       [479.22995079],\n",
       "       [587.40796067],\n",
       "       [503.38537101],\n",
       "       [503.13820531],\n",
       "       [473.48706237],\n",
       "       [505.63888225],\n",
       "       [647.64396749],\n",
       "       [456.8096659 ],\n",
       "       [542.25767457],\n",
       "       [478.05664894],\n",
       "       [605.12381841],\n",
       "       [389.62505323],\n",
       "       [537.60495383],\n",
       "       [508.07271447],\n",
       "       [683.62672858],\n",
       "       [424.68400491],\n",
       "       [523.74368455],\n",
       "       [512.79839937],\n",
       "       [473.2482299 ],\n",
       "       [596.78822608],\n",
       "       [445.07782804],\n",
       "       [551.95121329],\n",
       "       [568.74320969],\n",
       "       [519.97901382],\n",
       "       [570.74001066],\n",
       "       [396.51322802],\n",
       "       [467.83454479],\n",
       "       [481.2400489 ],\n",
       "       [597.15539913],\n",
       "       [459.54990699],\n",
       "       [507.00653694],\n",
       "       [533.14104356],\n",
       "       [420.8535174 ],\n",
       "       [380.9051706 ],\n",
       "       [427.18014044],\n",
       "       [582.80933769],\n",
       "       [562.11965514],\n",
       "       [473.80189822],\n",
       "       [499.33884631]])"
      ]
     },
     "execution_count": 9,
     "metadata": {},
     "output_type": "execute_result"
    }
   ],
   "source": [
    "#selecting the LinearRegression model and training the dataset\n",
    "model = LinearRegression()\n",
    "model.fit(x_train,y_train)\n",
    "pred = model.predict(x_test)\n",
    "pred"
   ]
  },
  {
   "cell_type": "code",
   "execution_count": 10,
   "metadata": {},
   "outputs": [
    {
     "data": {
      "text/plain": [
       "<seaborn.axisgrid.JointGrid at 0x2957b8c81c8>"
      ]
     },
     "execution_count": 10,
     "metadata": {},
     "output_type": "execute_result"
    },
    {
     "data": {
      "image/png": "[encoded data removed]",
      "text/plain": [
       "<Figure size 432x432 with 3 Axes>"
      ]
     },
     "metadata": {
      "needs_background": "light"
     },
     "output_type": "display_data"
    }
   ],
   "source": [
    "sns.jointplot(x='Time on App',y='Yearly Amount Spent',data=data,kind='reg')"
   ]
  },
  {
   "cell_type": "code",
   "execution_count": 11,
   "metadata": {},
   "outputs": [
    {
     "data": {
      "text/plain": [
       "<seaborn.axisgrid.JointGrid at 0x2957ba5b7c8>"
      ]
     },
     "execution_count": 11,
     "metadata": {},
     "output_type": "execute_result"
    },
    {
     "data": {
      "image/png": "[encoded data removed]",
      "text/plain": [
       "<Figure size 432x432 with 3 Axes>"
      ]
     },
     "metadata": {
      "needs_background": "light"
     },
     "output_type": "display_data"
    }
   ],
   "source": [
    "sns.jointplot(x='Time on Website',y='Yearly Amount Spent',data=data,kind='reg')"
   ]
  },
  {
   "cell_type": "code",
   "execution_count": 12,
   "metadata": {},
   "outputs": [
    {
     "data": {
      "text/html": [
       "<div>\n",
       "<style scoped>\n",
       "    .dataframe tbody tr th:only-of-type {\n",
       "        vertical-align: middle;\n",
       "    }\n",
       "\n",
       "    .dataframe tbody tr th {\n",
       "        vertical-align: top;\n",
       "    }\n",
       "\n",
       "    .dataframe thead th {\n",
       "        text-align: right;\n",
       "    }\n",
       "</style>\n",
       "<table border=\"1\" class=\"dataframe\">\n",
       "  <thead>\n",
       "    <tr style=\"text-align: right;\">\n",
       "      <th></th>\n",
       "      <th>Yearly Amount Spent</th>\n",
       "    </tr>\n",
       "  </thead>\n",
       "  <tbody>\n",
       "    <tr>\n",
       "      <td>473</td>\n",
       "      <td>444.545550</td>\n",
       "    </tr>\n",
       "    <tr>\n",
       "      <td>383</td>\n",
       "      <td>583.977802</td>\n",
       "    </tr>\n",
       "    <tr>\n",
       "      <td>74</td>\n",
       "      <td>578.241605</td>\n",
       "    </tr>\n",
       "    <tr>\n",
       "      <td>166</td>\n",
       "      <td>497.811930</td>\n",
       "    </tr>\n",
       "    <tr>\n",
       "      <td>106</td>\n",
       "      <td>494.551861</td>\n",
       "    </tr>\n",
       "  </tbody>\n",
       "</table>\n",
       "</div>"
      ],
      "text/plain": [
       "     Yearly Amount Spent\n",
       "473           444.545550\n",
       "383           583.977802\n",
       "74            578.241605\n",
       "166           497.811930\n",
       "106           494.551861"
      ]
     },
     "execution_count": 12,
     "metadata": {},
     "output_type": "execute_result"
    }
   ],
   "source": [
    "f1 = x_train.tail()\n",
    "f2 = y_test.tail()\n",
    "f2"
   ]
  },
  {
   "cell_type": "code",
   "execution_count": 13,
   "metadata": {},
   "outputs": [
    {
     "data": {
      "text/plain": [
       "array([[433.25175933],\n",
       "       [422.16938969],\n",
       "       [609.65949196],\n",
       "       [451.23287961],\n",
       "       [523.46991923]])"
      ]
     },
     "execution_count": 13,
     "metadata": {},
     "output_type": "execute_result"
    }
   ],
   "source": [
    "pred2 = model.predict(f1)\n",
    "pred2"
   ]
  },
  {
   "cell_type": "code",
   "execution_count": 14,
   "metadata": {},
   "outputs": [
    {
     "data": {
      "text/plain": [
       "56.003439608968655"
      ]
     },
     "execution_count": 14,
     "metadata": {},
     "output_type": "execute_result"
    }
   ],
   "source": [
    "metrics.mean_absolute_error(f2,pred2)"
   ]
  },
  {
   "cell_type": "code",
   "execution_count": 15,
   "metadata": {},
   "outputs": [
    {
     "data": {
      "text/plain": [
       "array([[25.17687716, 38.08324697,  0.81919908, 61.37270009]])"
      ]
     },
     "execution_count": 15,
     "metadata": {},
     "output_type": "execute_result"
    }
   ],
   "source": [
    "model.coef_"
   ]
  },
  {
   "cell_type": "code",
   "execution_count": 16,
   "metadata": {},
   "outputs": [
    {
     "data": {
      "text/plain": [
       "array([-1039.63632823])"
      ]
     },
     "execution_count": 16,
     "metadata": {},
     "output_type": "execute_result"
    }
   ],
   "source": [
    "model.intercept_"
   ]
  }
 ],
 "metadata": {
  "kernelspec": {
   "display_name": "Python 3",
   "language": "python",
   "name": "python3"
  },
  "language_info": {
   "codemirror_mode": {
    "name": "ipython",
    "version": 3
   },
   "file_extension": ".py",
   "mimetype": "text/x-python",
   "name": "python",
   "nbconvert_exporter": "python",
   "pygments_lexer": "ipython3",
   "version": "3.7.4"
  }
 },
 "nbformat": 4,
 "nbformat_minor": 2
}
